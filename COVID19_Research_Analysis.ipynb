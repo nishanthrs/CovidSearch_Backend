{
 "cells": [
  {
   "cell_type": "code",
   "execution_count": null,
   "metadata": {},
   "outputs": [],
   "source": [
    "import json\n",
    "import os\n",
    "import pandas\n",
    "from pprint import pprint"
   ]
  },
  {
   "cell_type": "code",
   "execution_count": null,
   "metadata": {},
   "outputs": [],
   "source": [
    "dirs = ['biorxiv_medrxiv']\n",
    "\n",
    "for d in dirs:\n",
    "    files = os.listdir(d)\n",
    "    for file in files:\n",
    "        filepath = os.path.join(d, file)\n",
    "        with open(filepath, 'rb') as f:\n",
    "            file_data = json.load(f)\n",
    "            title = file_data['metadata']['title']\n",
    "            abstract_data = file_data['abstract']  # List of paragraphs in abstract\n",
    "            # TODO: Concatenate paragraphs\n",
    "            body_text = file_data['body_text']"
   ]
  },
  {
   "cell_type": "code",
   "execution_count": null,
   "metadata": {},
   "outputs": [],
   "source": []
  }
 ],
 "metadata": {
  "kernelspec": {
   "display_name": "Python 3",
   "language": "python",
   "name": "python3"
  },
  "language_info": {
   "codemirror_mode": {
    "name": "ipython",
    "version": 3
   },
   "file_extension": ".py",
   "mimetype": "text/x-python",
   "name": "python",
   "nbconvert_exporter": "python",
   "pygments_lexer": "ipython3",
   "version": "3.7.3"
  }
 },
 "nbformat": 4,
 "nbformat_minor": 4
}
