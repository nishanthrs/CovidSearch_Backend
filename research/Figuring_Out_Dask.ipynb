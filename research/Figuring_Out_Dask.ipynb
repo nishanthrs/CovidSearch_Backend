{
 "cells": [
  {
   "cell_type": "code",
   "execution_count": 1,
   "metadata": {},
   "outputs": [],
   "source": [
    "from elasticsearch import Elasticsearch, RequestError, TransportError\n",
    "import json\n",
    "import multiprocessing\n",
    "import numpy as np\n",
    "import os\n",
    "import pandas as pd\n",
    "import time\n",
    "from sklearn.feature_extraction.text import ENGLISH_STOP_WORDS\n",
    "from sklearn.feature_extraction.text import TfidfVectorizer"
   ]
  },
  {
   "cell_type": "code",
   "execution_count": 2,
   "metadata": {},
   "outputs": [
    {
     "data": {
      "text/plain": [
       "'/home/nrs/SideProjects/COVID19_Research_Analysis/cord_19_dataset'"
      ]
     },
     "execution_count": 2,
     "metadata": {},
     "output_type": "execute_result"
    }
   ],
   "source": [
    "# Set current working directory\n",
    "os.chdir(\"../cord_19_dataset\")\n",
    "os.getcwd()"
   ]
  },
  {
   "cell_type": "markdown",
   "metadata": {},
   "source": [
    "**Regular-Ass Pandas Dataframes**"
   ]
  },
  {
   "cell_type": "code",
   "execution_count": null,
   "metadata": {},
   "outputs": [],
   "source": [
    "metadata_filename = \"metadata.csv\"\n",
    "metadata_cols = list(pd.read_csv(metadata_filename, nrows=0).columns)\n",
    "metadata_cols_dtypes = {col: str for col in metadata_cols}\n",
    "metadata_df = pd.read_csv(metadata_filename, dtype=metadata_cols_dtypes)"
   ]
  },
  {
   "cell_type": "code",
   "execution_count": null,
   "metadata": {},
   "outputs": [],
   "source": [
    "metadata_df = metadata_df.dropna(subset=[\"title\"], how=\"all\")\n",
    "metadata_df = metadata_df.fillna(\"\")\n",
    "tfidf_vectorizer = TfidfVectorizer(stop_words='english')\n",
    "doc_embeddings = tfidf_vectorizer.fit_transform(metadata_df[\"title\"])\n",
    "print(f\"Embeddings type: {type(doc_embeddings)}\")\n",
    "print(f\"pd.Series embedding shape: {doc_embeddings.shape}\")"
   ]
  },
  {
   "cell_type": "markdown",
   "metadata": {},
   "source": [
    "**Dask Dataframes**<br>\n",
    "How to use Dask to deal with dataframes that don't fit in memory? We'll find out here."
   ]
  },
  {
   "cell_type": "markdown",
   "metadata": {},
   "source": [
    "Dask is a parallel computing library (one machine or distributed) that offers abstractions to **work with numpy and pandas datasets larger than a single machine's memory through parallel computation**. Numpy, pandas, and sklearn were not designed to scale beyond a single CPU or its machine's memory. Dask solves this problem by becoming a platform to build distributed data applications. <br>\n",
    "\n",
    "Dask parallelizes computation via partitions. Dask dataframes are made up of many panda dataframes (i.e. partition), loaded lazily and in parallel. A single method call or computation on a Dask dataframe makes the corresponding pandas method call on each partition, all done in parallel across partitions. This also allows the programmer to interact with Dask dataframes larger than memory, **so long as each partition fits into memory**. Furthermore, Dask dataframes are *lazily loaded*, meaning that operations on a Dask dataframe builds up a task (computation) graph. Only when compute is called upon the Dask dataframe does the parallel computation execute. <br>\n",
    "\n",
    "Thus, Dask's power comes from running intensive computations on large out-of-memory datasets in parallel with a small memory footprint."
   ]
  },
  {
   "cell_type": "markdown",
   "metadata": {},
   "source": [
    "Breaking Dask down simply, we have two components: <br>\n",
    "1. **High-Level Collections:** Dask provides high-level data structures that mimic Numpy and Pandas, but can operate on datasets that don't fit into main memory in parallel. Basically, they're alternative to Numpy and Pandas for large datasets.  \n",
    "2. **Low-Level Schedulers:** Dask provides dynamic task schedulers that execute task DAGs in parallel. These execution engines power computations on the above high-level collections. They allow for fast computations on out-of-memory datasets with a minimal memory footprint. Basically, they're alternatives to multiprocessing and multithreading and other task scheduling systems like Luigi.   "
   ]
  },
  {
   "cell_type": "code",
   "execution_count": 3,
   "metadata": {},
   "outputs": [
    {
     "data": {
      "application/vnd.jupyter.widget-view+json": {
       "model_id": "9fad7865974b44af83cb3309b9704c07",
       "version_major": 2,
       "version_minor": 0
      },
      "text/plain": [
       "VBox(children=(HTML(value='<h2>LocalCluster</h2>'), HBox(children=(HTML(value='\\n<div>\\n  <style scoped>\\n    …"
      ]
     },
     "metadata": {},
     "output_type": "display_data"
    }
   ],
   "source": [
    "import dask.dataframe as dd\n",
    "from dask.distributed import Client\n",
    "\n",
    "num_cpu_cores = multiprocessing.cpu_count()\n",
    "client = Client(n_workers=num_cpu_cores)  # Set to number of cores of machine\n",
    "client.cluster"
   ]
  },
  {
   "cell_type": "code",
   "execution_count": null,
   "metadata": {},
   "outputs": [],
   "source": [
    "from time import sleep\n",
    "\n",
    "def inc(x):\n",
    "    # sleep(1)\n",
    "    return x + 1\n",
    "\n",
    "def add(x, y):\n",
    "    # sleep(1)\n",
    "    return x + y"
   ]
  },
  {
   "cell_type": "code",
   "execution_count": null,
   "metadata": {},
   "outputs": [],
   "source": [
    "%%time\n",
    "from dask import delayed\n",
    "\n",
    "# This runs immediately, all it does is build a graph\n",
    "# delayed(computation_func_name)(param_0, param_1, ...) where params can also be dask.Delayed objects\n",
    "\n",
    "x = delayed(inc)(1)  # Computation graph with one node\n",
    "y = delayed(inc)(2)  # Computation graph with one node\n",
    "z = delayed(add)(x, y)  # Computation graph with three nodes"
   ]
  },
  {
   "cell_type": "code",
   "execution_count": null,
   "metadata": {},
   "outputs": [],
   "source": [
    "%%time\n",
    "\n",
    "x.visualize()\n",
    "# z = lazy dask.Delayed object (computation graph)\n",
    "# z.compute() passes computation graph into an execution engine \n",
    "# (which parallelizes workload with minimal memory footprint), \n",
    "# yielding actual result of computation\n",
    "z.compute() \n",
    "z.visualize()  # Visualize computation graph"
   ]
  },
  {
   "cell_type": "markdown",
   "metadata": {},
   "source": [
    "**Parallelizing Computations using Dask**"
   ]
  },
  {
   "cell_type": "code",
   "execution_count": null,
   "metadata": {},
   "outputs": [],
   "source": [
    "%%time\n",
    "\n",
    "data = [1, 2, 3, 4, 5, 6, 7, 8]\n",
    "results = []\n",
    "\n",
    "for x in data:\n",
    "    y = delayed(inc)(x)  # Reminder: doesn't actually perform computation here\n",
    "    results.append(y)  # Add dask.Delayed object to list\n",
    "\n",
    "# Params = list of dask.Delayed objects, total = dask.Delayed object (contains computation DAG)\n",
    "# No actual computation performed below; just building the computation DAG!\n",
    "total = delayed(sum)(results)\n",
    "print(\"Before computing:\", total)  # Let's see what type of thing total is\n",
    "result = total.compute()\n",
    "print(\"After computing :\", result)  # After it's computed\n",
    "total.visualize()"
   ]
  },
  {
   "cell_type": "markdown",
   "metadata": {},
   "source": [
    "**Apply Dask to CORD19 Dataset**"
   ]
  },
  {
   "cell_type": "code",
   "execution_count": 17,
   "metadata": {},
   "outputs": [],
   "source": [
    "metadata_filename = \"metadata.csv\"\n",
    "metadata_cols = [\n",
    "    \"cord_uid\", \"title\", \"authors\", \"abstract\", \"publish_time\", \"url\", \"journal\", \"pdf_json_files\",\n",
    "]\n",
    "metadata_cols_dtypes = {col: str for col in metadata_cols}\n",
    "metadata_dd = dd.read_csv(metadata_filename, dtype=metadata_cols_dtypes, usecols=metadata_cols)\n",
    "# metadata_dd.visualize()"
   ]
  },
  {
   "cell_type": "markdown",
   "metadata": {},
   "source": [
    "Computations when building the elasticsearch index:<br>\n",
    "File: `build_research_paper_index.py` <br>\n",
    "1. `retrieve_paper_body_text` (bunch of file reads and string appending via loops)\n",
    "2. `remove_papers_with_null_cols` (pandas df mutation)\n",
    "3. `fill_in_missing_data` (pandas df mutation)\n",
    "4. `generate_embeddings` (mathematical operations like dot products and sums) <br>\n",
    "The goal is not to parallelize the computations themselves. What we want to parallelize is its operation on the out-of-memory Dask dataframe. Thus, there will be 4 separate computation graphs, each one having a computation node for each partition of the Dask dataframe. "
   ]
  },
  {
   "cell_type": "code",
   "execution_count": 18,
   "metadata": {},
   "outputs": [
    {
     "name": "stdout",
     "output_type": "stream",
     "text": [
      "Num rows before: 379974\n",
      "Num rows after: 328190\n",
      "Null cols before: ['abstract', 'publish_time', 'authors', 'journal', 'pdf_json_files', 'url']\n",
      "Null cols after: []\n",
      "CPU times: user 484 ms, sys: 54 ms, total: 538 ms\n",
      "Wall time: 7.41 s\n"
     ]
    }
   ],
   "source": [
    "%%time\n",
    "\n",
    "print(f\"Num rows before: {metadata_dd.shape[0].compute()}\")\n",
    "metadata_dd = metadata_dd.dropna(subset=[\"title\"], how=\"all\")  # remove_papers_with_null_cols\n",
    "metadata_dd = metadata_dd.dropna(subset=[\"abstract\", \"url\"], how=\"all\")  # remove_papers_with_null_cols\n",
    "print(f\"Num rows after: {metadata_dd.shape[0].compute()}\")\n",
    "print(f\"Null cols before: {metadata_dd.columns[metadata_dd.isna().any().compute()].tolist()}\")\n",
    "metadata_dd = metadata_dd.fillna(\"\")  # fill_in_missing_data\n",
    "print(f\"Null cols after: {metadata_dd.columns[metadata_dd.isna().any().compute()].tolist()}\")"
   ]
  },
  {
   "cell_type": "code",
   "execution_count": 19,
   "metadata": {},
   "outputs": [
    {
     "name": "stdout",
     "output_type": "stream",
     "text": [
      "Metadata dd shape: (Delayed('int-5876525a-6449-4f12-944e-19475e91fd38'), 8)\n",
      "Metadata dd types: cord_uid          object\n",
      "title             object\n",
      "abstract          object\n",
      "publish_time      object\n",
      "authors           object\n",
      "journal           object\n",
      "pdf_json_files    object\n",
      "url               object\n",
      "dtype: object\n",
      "Metadata dd # partitions: 9\n",
      "Metadata dd index: Dask Index Structure:\n",
      "npartitions=9\n",
      "    int64\n",
      "      ...\n",
      "    ...  \n",
      "      ...\n",
      "      ...\n",
      "dtype: int64\n",
      "Dask Name: fillna, 63 tasks\n"
     ]
    }
   ],
   "source": [
    "print(f\"Metadata dd shape: {metadata_dd.shape}\")  # (Delayed shape, # cols)\n",
    "print(f\"Metadata dd types: {metadata_dd.dtypes}\")\n",
    "print(f\"Metadata dd # partitions: {metadata_dd.npartitions}\")\n",
    "print(f\"Metadata dd index: {metadata_dd.index}\")"
   ]
  },
  {
   "cell_type": "code",
   "execution_count": 20,
   "metadata": {},
   "outputs": [
    {
     "name": "stdout",
     "output_type": "stream",
     "text": [
      "Metadata dd memory usage: 741221421\n",
      "Metadata dd shape: (328190, 8)\n",
      "CPU times: user 7.39 s, sys: 1.88 s, total: 9.27 s\n",
      "Wall time: 12.1 s\n"
     ]
    }
   ],
   "source": [
    "%%time\n",
    "\n",
    "cleaned_metadata_df = metadata_dd.compute(scheduler=\"processes\")\n",
    "print(f\"Metadata dd memory usage: {cleaned_metadata_df.memory_usage(deep=True).sum()}\")  # 741MB\n",
    "print(f\"Metadata dd shape: {cleaned_metadata_df.shape}\")  # (328190, 8)"
   ]
  },
  {
   "cell_type": "code",
   "execution_count": 21,
   "metadata": {},
   "outputs": [],
   "source": [
    "def retrieve_paper_body_text(pdf_json_files: str) -> str:\n",
    "    if pdf_json_files and type(pdf_json_files) is str:\n",
    "        for json_path in pdf_json_files.split(\"; \"):\n",
    "            paper_body_text = []\n",
    "\n",
    "            try:\n",
    "                with open(json_path) as paper_json:\n",
    "                    full_text_dict = json.load(paper_json)\n",
    "\n",
    "                    for paragraph_dict in full_text_dict[\"body_text\"]:\n",
    "                        paragraph_text = paragraph_dict[\"text\"]\n",
    "                        section_name = paragraph_dict[\"section\"]\n",
    "                        if section_name.lower() != \"abstract\":\n",
    "                            paper_body_text.append(paragraph_text)\n",
    "\n",
    "                if paper_body_text:  # Stop searching through pdf_json_files\n",
    "                    return \"\\n\".join(paper_body_text)\n",
    "            except FileNotFoundError as e:\n",
    "                print(f\"Failed on {json_path} with exception: {str(e)}\")\n",
    "\n",
    "    return \"\"\n",
    "\n",
    "def retrieve_paper_body_text_for_series(pdf_json_files_series: pd.Series) -> pd.Series:\n",
    "    return pdf_json_files_series.apply(lambda pdf_json_files: retrieve_paper_body_text(pdf_json_files))\n",
    "\n",
    "def generate_embeddings(embedding_type: str, docs: pd.Series) -> pd.Series:\n",
    "    if embedding_type == \"tfidf\":\n",
    "        tfidf_vectorizer = TfidfVectorizer(stop_words='english')\n",
    "        doc_embeddings = tfidf_vectorizer.fit_transform(docs)\n",
    "        print(f\"Title embeddings shape: {doc_embeddings.toarray()}\")\n",
    "    else:\n",
    "        try:\n",
    "            # TODO: Correctly load and generate embeddings using CORD19 embeddings and HuggingFace transformers lib\n",
    "            embeddings = DEEP_EMBEDDINGS_MAP[embedding_type]\n",
    "        except KeyError:\n",
    "            raise KeyError(\n",
    "                f\"Embedding type {embedding_type} nonexistent in embedding map: {DEEP_EMBEDDINGS_MAP}. Make sure the embedding type exists as a key in the embedding map.\"\n",
    "            )\n",
    "\n",
    "    return doc_embeddings"
   ]
  },
  {
   "cell_type": "code",
   "execution_count": 22,
   "metadata": {},
   "outputs": [
    {
     "name": "stdout",
     "output_type": "stream",
     "text": [
      "Failed on foo with exception: [Errno 2] No such file or directory: 'foo'\n",
      "Failed on foo with exception: [Errno 2] No such file or directory: 'foo'\n"
     ]
    },
    {
     "data": {
      "image/png": "[encoded data removed]",
      "text/plain": [
       "<IPython.core.display.Image object>"
      ]
     },
     "execution_count": 22,
     "metadata": {},
     "output_type": "execute_result"
    }
   ],
   "source": [
    "\"\"\"metadata_body_col_dd = metadata_dd.map_partitions(\n",
    "    lambda df: retrieve_paper_body_text_for_series(df.pdf_json_files)\n",
    ")\n",
    "metadata_body_col_dd  # Dask.Series\n",
    "metadata_body_col_dd.visualize()\"\"\"\n",
    "\n",
    "metadata_dd = metadata_dd.map_partitions(\n",
    "    lambda df: df.assign(body=retrieve_paper_body_text_for_series(df.pdf_json_files))\n",
    ")\n",
    "metadata_dd.visualize()"
   ]
  },
  {
   "cell_type": "code",
   "execution_count": 23,
   "metadata": {},
   "outputs": [
    {
     "name": "stdout",
     "output_type": "stream",
     "text": [
      "9\n",
      "CPU times: user 1.32 s, sys: 227 ms, total: 1.55 s\n",
      "Wall time: 34.7 s\n"
     ]
    },
    {
     "data": {
      "text/plain": [
       "2019666122"
      ]
     },
     "execution_count": 23,
     "metadata": {},
     "output_type": "execute_result"
    }
   ],
   "source": [
    "%%time\n",
    "\n",
    "# metadata_body_col_dd.get_partition(0).memory_usage(deep=True).compute()\n",
    "print(metadata_dd.npartitions)\n",
    "metadata_dd.get_partition(0).memory_usage(deep=True).sum().compute()  # 2GB"
   ]
  },
  {
   "cell_type": "code",
   "execution_count": 24,
   "metadata": {},
   "outputs": [],
   "source": [
    "metadata_dd = metadata_dd.repartition(partition_size=\"100MB\")"
   ]
  },
  {
   "cell_type": "code",
   "execution_count": 25,
   "metadata": {},
   "outputs": [
    {
     "name": "stdout",
     "output_type": "stream",
     "text": [
      "69\n",
      "18: 5019511\n",
      "CPU times: user 1.35 s, sys: 259 ms, total: 1.61 s\n",
      "Wall time: 34.8 s\n"
     ]
    }
   ],
   "source": [
    "%%time\n",
    "\n",
    "import random\n",
    "\n",
    "\"\"\"metadata_body_col_dd = metadata_body_col_dd.repartition(partition_size=\"100MB\")\n",
    "print(metadata_body_col_dd.npartitions)\n",
    "print(metadata_body_col_dd.get_partition(0).memory_usage(deep=True).compute())\"\"\"\n",
    "\n",
    "print(metadata_dd.npartitions)\n",
    "rand_partition_num = random.randint(0, metadata_dd.npartitions)\n",
    "print(f\"{rand_partition_num}: {metadata_dd.get_partition(rand_partition_num).memory_usage(deep=True).sum().compute()}\")"
   ]
  },
  {
   "cell_type": "code",
   "execution_count": null,
   "metadata": {},
   "outputs": [],
   "source": [
    "list(client.scheduler_info()[\"workers\"].values())[1]"
   ]
  },
  {
   "cell_type": "code",
   "execution_count": 26,
   "metadata": {},
   "outputs": [
    {
     "name": "stdout",
     "output_type": "stream",
     "text": [
      "CPU times: user 1min 49s, sys: 15.4 s, total: 2min 4s\n",
      "Wall time: 2min 38s\n"
     ]
    }
   ],
   "source": [
    "%%time\n",
    "\n",
    "# Runs into MemoryError:\n",
    "# metadata_body_col_dd.compute(scheduler=\"processes\")\n",
    "\n",
    "# Write research paper bodies into parquet file\n",
    "# If compute_kwargs={\"scheduler\": \"processes\"} (multiprocessing), workers run out of memory. Why tf does this happen?\n",
    "dd.to_parquet(\n",
    "    metadata_dd,\n",
    "    \"research_paper_bodies/\", \n",
    "    engine=\"fastparquet\",\n",
    "    compute_kwargs={\"scheduler\": \"synchronous\"},  # synchronous ~2m40s\n",
    ")"
   ]
  },
  {
   "cell_type": "code",
   "execution_count": 27,
   "metadata": {},
   "outputs": [
    {
     "name": "stdout",
     "output_type": "stream",
     "text": [
      "CPU times: user 36 µs, sys: 5 µs, total: 41 µs\n",
      "Wall time: 52.5 µs\n"
     ]
    },
    {
     "data": {
      "text/plain": [
       "'\\nmetadata_dd = metadata_dd.map_partitions(\\n    lambda df: df.assign(\\n        title_tfidf_embedding=generate_embeddings(\"tfidf\", df.title)\\n    )\\n)\\nmetadata_dd = metadata_dd.map_partitions(\\n    lambda df: df.assign(\\n        abstract_tfidf_embedding=generate_embedding(\"tfidf\", df.abstract)\\n    )\\n)\\n'"
      ]
     },
     "execution_count": 27,
     "metadata": {},
     "output_type": "execute_result"
    }
   ],
   "source": [
    "%%time\n",
    "\n",
    "\"\"\"Generate tfidf embeddings for title and abstract\"\"\"\n",
    "\"\"\"\n",
    "metadata_dd = metadata_dd.map_partitions(\n",
    "    lambda df: df.assign(\n",
    "        title_tfidf_embedding=generate_embeddings(\"tfidf\", df.title)\n",
    "    )\n",
    ")\n",
    "metadata_dd = metadata_dd.map_partitions(\n",
    "    lambda df: df.assign(\n",
    "        abstract_tfidf_embedding=generate_embedding(\"tfidf\", df.abstract)\n",
    "    )\n",
    ")\n",
    "\"\"\""
   ]
  },
  {
   "cell_type": "code",
   "execution_count": null,
   "metadata": {},
   "outputs": [],
   "source": [
    "%%time\n",
    "\n",
    "def get_partition_size(dd, n):\n",
    "    return dd.get_partition(n).memory_usage(deep=True).sum().compute()\n",
    "\n",
    "def get_df_size(df):\n",
    "    return df.memory_usage(deep=True).sum()\n",
    "    \n",
    "total_mem_usage = get_df_size(metadata_dd).compute()\n",
    "print(f\"Total memory usage of metadata_dd: {total_mem_usage}\")\n",
    "mem_usages_by_partition = metadata_dd.map_partitions(get_df_size).compute()\n",
    "print(f\"Memory usage by partition: {mem_usages_by_partition}\")"
   ]
  },
  {
   "cell_type": "markdown",
   "metadata": {},
   "source": [
    "Below cell will run into OOM error since compute() function loads the result (in this case, the entire df) into memory. <br>\n",
    "Thus, we have to figure out a way to keep it as a lazily loaded dask.Dataframe even after transformation. <br>\n",
    "\n",
    "There are two ways of doing this:<br>\n",
    "1. Write lazy Dask dataframe (delayed object) into several Parquet files (done in parallel by Dask). Then we load these files in serially (making sure each partition < 100 MB) as a dataframe in memory and insert it into Elasticsearch. <br>\n",
    "2. Simply compute each partition (making sure each partition < 100 MB) and insert it into Elasticsearch. <br>\n",
    "Let's try the two approaches and see which one's faster. <br>\n",
    "\n",
    "Confirm memory size of each partition by calling `dd.get_partition(n).compute().memory_usage().sum()`."
   ]
  },
  {
   "cell_type": "code",
   "execution_count": null,
   "metadata": {},
   "outputs": [],
   "source": [
    "# Note: Don't want to do this, especially since the whole point of Dask is to never load entire dataframes into memory:\n",
    "# metadata_dd.compute(scheduler=\"processes\")\n",
    "\n",
    "COVID19_PAPERS_INDEX = \"covid19_papers\"\n",
    "DATA_TYPE = \"research_paper\"\n",
    "UPLOAD_CHUNK_SIZE = 500\n",
    "\n",
    "def rec_to_actions(df, index, data_type):\n",
    "    for record in df.to_dict(orient=\"records\"):\n",
    "        record_id = record[\"cord_uid\"]\n",
    "        yield (\n",
    "            '{ \"index\" : { \"_index\" : \"%s\", \"_type\" : \"%s\", \"_id\": \"%s\" }}'\n",
    "            % (index, data_type, record_id)\n",
    "        )\n",
    "        yield (json.dumps(record))\n",
    "\n",
    "def upload_in_memory_papers_to_es_idx(\n",
    "    papers_df, es_idx, es_hosts, data_type=DATA_TYPE, chunk_size=UPLOAD_CHUNK_SIZE\n",
    "):\n",
    "    \"\"\"\n",
    "    Uploading Pandas DF to Elasticsearch Index: https://stackoverflow.com/questions/49726229/how-to-export-pandas-data-to-elasticsearch\n",
    "    \"\"\"\n",
    "    # TODO: Catch other exceptions in the future: https://elasticsearch-py.readthedocs.io/en/master/exceptions.html\n",
    "    try:\n",
    "        es = Elasticsearch(hosts=es_hosts)\n",
    "        es.indices.create(index=es_idx, ignore=400)\n",
    "    except RequestError:\n",
    "        print(f\"Index {es_idx} already exists; continue uploading papers to {es_idx}\")\n",
    "\n",
    "    try:\n",
    "        idx = 0\n",
    "        # num_rows = papers_df.shape[0].compute()\n",
    "        num_rows = chunk_size\n",
    "        while idx < num_rows:\n",
    "            if idx + chunk_size < num_rows:\n",
    "                max_idx = idx + chunk_size\n",
    "            else:\n",
    "                max_idx = num_rows\n",
    "\n",
    "            start = time.time()\n",
    "            # TODO: Due to partitioning, index of dask.Dataframe are NOT unique! They reset upon a new partition.\n",
    "            # To fix this:\n",
    "            # 1. Repartition to 100MB size\n",
    "            # 2. Modify http_max_content_length in docker-compose.yml file under env\n",
    "            # 3. Call compute on each partition (.get_partition(n).compute(scheduler=\"processes\"))\n",
    "            # Won't be parallel anymore (since parallelization is done across partitions), \n",
    "            # but at least Dask helps us in dealing with OOM datasets (solves OOM problem but not parallelization)\n",
    "            # Thus, it could be argued that we don't even need Dask in this case. We could simply read in the\n",
    "            # pandas df as chunks (instead of partitions) \n",
    "            # Modifying elasticsearch.yml configs: \n",
    "            # https://discuss.elastic.co/t/elastic-cluster-docker-or-vm-for-production/203567\n",
    "            # https://stackoverflow.com/questions/44002643/how-to-use-the-official-docker-elasticsearch-container\n",
    "            # Reminder that we have to go to these lengths b/c Dask indices are dependent on partitions and \n",
    "            # doesn't support \n",
    "            papers_df_chunk = papers_df.loc[idx:max_idx].compute(scheduler=\"processes\")\n",
    "            end = time.time()\n",
    "            print(f\"Chunk compute time: {end - start}\")\n",
    "            print(f\"Papers chunk memory size: {papers_df_chunk.memory_usage(deep=True).sum()}\")\n",
    "            r = es.bulk(rec_to_actions(papers_df_chunk, es_idx, data_type))\n",
    "            print(f\"Uploaded {papers_df_chunk.shape[0]} papers\")\n",
    "            end_2 = time.time()\n",
    "            print(f\"Chunk upload time: {end_2 - end}\")\n",
    "            idx = max_idx\n",
    "            print(f\"Errors: {r['errors']}\")\n",
    "            \n",
    "    except TransportError as te:\n",
    "        transport_error_413_url = \"https://github.com/elastic/elasticsearch/issues/2902\"\n",
    "        transport_error_429_urls = [\n",
    "            \"https://stackoverflow.com/questions/61870751/circuit-breaking-exception-parent-data-too-large-data-for-http-request\",\n",
    "            \"https://github.com/elastic/elasticsearch/issues/31197\",\n",
    "        ]\n",
    "        if te.status_code == 413:\n",
    "            print(\n",
    "                f\"Transport error with status code 413. Chunk size is too large, so try reducing chunk size constant or increase http.max_content_length in the yml file. More info here: {transport_error_413_url}\"\n",
    "            )\n",
    "        elif te.status_code == 429:\n",
    "            print(\n",
    "                f\"Transport error with status code 429. Elasticsearch's JVM heap size is too small, so try increasing ES_HEAP_SIZE env var in docker-compose.yml. More info here: {transport_error_429_urls}\"\n",
    "            )\n",
    "        print(f\"Error stacktrace: {te.error, te.info}\")\n",
    "        return"
   ]
  },
  {
   "cell_type": "code",
   "execution_count": 28,
   "metadata": {},
   "outputs": [],
   "source": [
    "# Note: Don't want to do this, especially since the whole point of Dask is to never load entire dataframes into memory:\n",
    "# metadata_dd.compute(scheduler=\"processes\")\n",
    "\n",
    "COVID19_PAPERS_INDEX = \"covid19_papers\"\n",
    "DATA_TYPE = \"research_paper\"\n",
    "UPLOAD_CHUNK_SIZE = 500\n",
    "\n",
    "def rec_to_actions(df, index, data_type):\n",
    "    for record in df.to_dict(orient=\"records\"):\n",
    "        record_id = record[\"cord_uid\"]\n",
    "        yield (\n",
    "            '{ \"index\" : { \"_index\" : \"%s\", \"_type\" : \"%s\", \"_id\": \"%s\" }}'\n",
    "            % (index, data_type, record_id)\n",
    "        )\n",
    "        yield (json.dumps(record))\n",
    "\n",
    "def upload_parquet_dir_to_es_idx(\n",
    "    parquet_dir, es_idx, es_hosts, data_type=DATA_TYPE, chunk_size=UPLOAD_CHUNK_SIZE\n",
    "):\n",
    "    \"\"\"\n",
    "    Uploading Pandas DF to Elasticsearch Index: https://stackoverflow.com/questions/49726229/how-to-export-pandas-data-to-elasticsearch\n",
    "    \"\"\"\n",
    "    # TODO: Catch other exceptions in the future: https://elasticsearch-py.readthedocs.io/en/master/exceptions.html\n",
    "    try:\n",
    "        es = Elasticsearch(hosts=es_hosts)\n",
    "        es.indices.create(index=es_idx, ignore=400)\n",
    "    except RequestError:\n",
    "        print(f\"Index {es_idx} already exists; continue uploading papers to {es_idx}\")\n",
    "\n",
    "    try:\n",
    "        papers_dd = dd.read_parquet(parquet_dir, engine=\"fastparquet\")\n",
    "        for partition_num in range(papers_dd.npartitions):\n",
    "            start = time.time()\n",
    "            papers_dd_partition = papers_dd.get_partition(partition_num)\n",
    "            papers_df_partition = papers_dd_partition.compute()\n",
    "            compute_end = time.time()\n",
    "            print(f\"Chunk compute time: {compute_end - start}\")\n",
    "            print(f\"Papers chunk memory size: {papers_df_partition.memory_usage(deep=True).sum()}\")\n",
    "            print(f\"Number of papers in partition: {papers_df_partition.shape[0]}\")\n",
    "            r = es.bulk(rec_to_actions(papers_df_partition, es_idx, data_type))\n",
    "            upload_end = time.time()\n",
    "            print(f\"Chunk upload time: {upload_end - compute_end}\")\n",
    "            \n",
    "    except TransportError as te:\n",
    "        transport_error_413_url = \"https://github.com/elastic/elasticsearch/issues/2902\"\n",
    "        transport_error_429_urls = [\n",
    "            \"https://stackoverflow.com/questions/61870751/circuit-breaking-exception-parent-data-too-large-data-for-http-request\",\n",
    "            \"https://github.com/elastic/elasticsearch/issues/31197\",\n",
    "        ]\n",
    "        if te.status_code == 413:\n",
    "            print(\n",
    "                f\"Transport error with status code 413. Chunk size is too large, so try reducing chunk size constant or increase http.max_content_length in the yml file. More info here: {transport_error_413_url}\"\n",
    "            )\n",
    "        elif te.status_code == 429:\n",
    "            print(\n",
    "                f\"Transport error with status code 429. Elasticsearch's JVM heap size is too small, so try increasing ES_HEAP_SIZE env var in docker-compose.yml. More info here: {transport_error_429_urls}\"\n",
    "            )\n",
    "        print(f\"Error stacktrace: {te.error, te.info}\")\n",
    "        return"
   ]
  },
  {
   "cell_type": "code",
   "execution_count": 29,
   "metadata": {},
   "outputs": [
    {
     "name": "stdout",
     "output_type": "stream",
     "text": [
      "Chunk compute time: 1.7851262092590332\n",
      "Papers chunk memory size: 131781511\n",
      "Number of papers in partition: 2342\n"
     ]
    },
    {
     "name": "stderr",
     "output_type": "stream",
     "text": [
      "/home/nrs/.local/lib/python3.7/site-packages/elasticsearch/connection/base.py:177: ElasticsearchDeprecationWarning: [types removal] Specifying types in bulk requests is deprecated.\n",
      "  warnings.warn(message, category=ElasticsearchDeprecationWarning)\n"
     ]
    },
    {
     "name": "stdout",
     "output_type": "stream",
     "text": [
      "Chunk upload time: 5.860680818557739\n",
      "Chunk compute time: 0.6865420341491699\n",
      "Papers chunk memory size: 145404973\n",
      "Number of papers in partition: 2343\n"
     ]
    },
    {
     "name": "stderr",
     "output_type": "stream",
     "text": [
      "/home/nrs/.local/lib/python3.7/site-packages/elasticsearch/connection/base.py:177: ElasticsearchDeprecationWarning: [types removal] Specifying types in bulk requests is deprecated.\n",
      "  warnings.warn(message, category=ElasticsearchDeprecationWarning)\n"
     ]
    },
    {
     "name": "stdout",
     "output_type": "stream",
     "text": [
      "Chunk upload time: 5.90060830116272\n",
      "Chunk compute time: 0.8845219612121582\n",
      "Papers chunk memory size: 196862100\n",
      "Number of papers in partition: 2342\n"
     ]
    },
    {
     "name": "stderr",
     "output_type": "stream",
     "text": [
      "/home/nrs/.local/lib/python3.7/site-packages/elasticsearch/connection/base.py:177: ElasticsearchDeprecationWarning: [types removal] Specifying types in bulk requests is deprecated.\n",
      "  warnings.warn(message, category=ElasticsearchDeprecationWarning)\n"
     ]
    },
    {
     "name": "stdout",
     "output_type": "stream",
     "text": [
      "Chunk upload time: 8.761472225189209\n",
      "Chunk compute time: 0.46030306816101074\n",
      "Papers chunk memory size: 97652762\n",
      "Number of papers in partition: 2343\n"
     ]
    },
    {
     "name": "stderr",
     "output_type": "stream",
     "text": [
      "/home/nrs/.local/lib/python3.7/site-packages/elasticsearch/connection/base.py:177: ElasticsearchDeprecationWarning: [types removal] Specifying types in bulk requests is deprecated.\n",
      "  warnings.warn(message, category=ElasticsearchDeprecationWarning)\n"
     ]
    },
    {
     "name": "stdout",
     "output_type": "stream",
     "text": [
      "Chunk upload time: 4.828441143035889\n",
      "Chunk compute time: 0.6419668197631836\n",
      "Papers chunk memory size: 147076744\n",
      "Number of papers in partition: 2342\n"
     ]
    },
    {
     "name": "stderr",
     "output_type": "stream",
     "text": [
      "/home/nrs/.local/lib/python3.7/site-packages/elasticsearch/connection/base.py:177: ElasticsearchDeprecationWarning: [types removal] Specifying types in bulk requests is deprecated.\n",
      "  warnings.warn(message, category=ElasticsearchDeprecationWarning)\n"
     ]
    },
    {
     "name": "stdout",
     "output_type": "stream",
     "text": [
      "Chunk upload time: 6.588435411453247\n",
      "Chunk compute time: 0.37312841415405273\n",
      "Papers chunk memory size: 90715853\n",
      "Number of papers in partition: 2343\n"
     ]
    },
    {
     "name": "stderr",
     "output_type": "stream",
     "text": [
      "/home/nrs/.local/lib/python3.7/site-packages/elasticsearch/connection/base.py:177: ElasticsearchDeprecationWarning: [types removal] Specifying types in bulk requests is deprecated.\n",
      "  warnings.warn(message, category=ElasticsearchDeprecationWarning)\n"
     ]
    },
    {
     "name": "stdout",
     "output_type": "stream",
     "text": [
      "Chunk upload time: 3.887591600418091\n",
      "Chunk compute time: 1.0151867866516113\n",
      "Papers chunk memory size: 227950272\n",
      "Number of papers in partition: 2342\n"
     ]
    },
    {
     "name": "stderr",
     "output_type": "stream",
     "text": [
      "/home/nrs/.local/lib/python3.7/site-packages/elasticsearch/connection/base.py:177: ElasticsearchDeprecationWarning: [types removal] Specifying types in bulk requests is deprecated.\n",
      "  warnings.warn(message, category=ElasticsearchDeprecationWarning)\n"
     ]
    },
    {
     "name": "stdout",
     "output_type": "stream",
     "text": [
      "Chunk upload time: 9.152340173721313\n",
      "Chunk compute time: 0.8133549690246582\n",
      "Papers chunk memory size: 183880224\n",
      "Number of papers in partition: 2343\n"
     ]
    },
    {
     "name": "stderr",
     "output_type": "stream",
     "text": [
      "/home/nrs/.local/lib/python3.7/site-packages/elasticsearch/connection/base.py:177: ElasticsearchDeprecationWarning: [types removal] Specifying types in bulk requests is deprecated.\n",
      "  warnings.warn(message, category=ElasticsearchDeprecationWarning)\n"
     ]
    },
    {
     "name": "stdout",
     "output_type": "stream",
     "text": [
      "Chunk upload time: 7.932429313659668\n",
      "Chunk compute time: 0.30170607566833496\n",
      "Papers chunk memory size: 68766345\n",
      "Number of papers in partition: 2342\n"
     ]
    },
    {
     "name": "stderr",
     "output_type": "stream",
     "text": [
      "/home/nrs/.local/lib/python3.7/site-packages/elasticsearch/connection/base.py:177: ElasticsearchDeprecationWarning: [types removal] Specifying types in bulk requests is deprecated.\n",
      "  warnings.warn(message, category=ElasticsearchDeprecationWarning)\n"
     ]
    },
    {
     "name": "stdout",
     "output_type": "stream",
     "text": [
      "Chunk upload time: 3.4530563354492188\n",
      "Chunk compute time: 0.8193812370300293\n",
      "Papers chunk memory size: 192881032\n",
      "Number of papers in partition: 2343\n"
     ]
    },
    {
     "name": "stderr",
     "output_type": "stream",
     "text": [
      "/home/nrs/.local/lib/python3.7/site-packages/elasticsearch/connection/base.py:177: ElasticsearchDeprecationWarning: [types removal] Specifying types in bulk requests is deprecated.\n",
      "  warnings.warn(message, category=ElasticsearchDeprecationWarning)\n"
     ]
    },
    {
     "name": "stdout",
     "output_type": "stream",
     "text": [
      "Chunk upload time: 8.353768348693848\n",
      "Chunk compute time: 0.741386890411377\n",
      "Papers chunk memory size: 163731886\n",
      "Number of papers in partition: 2342\n"
     ]
    },
    {
     "name": "stderr",
     "output_type": "stream",
     "text": [
      "/home/nrs/.local/lib/python3.7/site-packages/elasticsearch/connection/base.py:177: ElasticsearchDeprecationWarning: [types removal] Specifying types in bulk requests is deprecated.\n",
      "  warnings.warn(message, category=ElasticsearchDeprecationWarning)\n"
     ]
    },
    {
     "name": "stdout",
     "output_type": "stream",
     "text": [
      "Chunk upload time: 7.531325101852417\n",
      "Chunk compute time: 0.33135223388671875\n",
      "Papers chunk memory size: 79035780\n",
      "Number of papers in partition: 2343\n"
     ]
    },
    {
     "name": "stderr",
     "output_type": "stream",
     "text": [
      "/home/nrs/.local/lib/python3.7/site-packages/elasticsearch/connection/base.py:177: ElasticsearchDeprecationWarning: [types removal] Specifying types in bulk requests is deprecated.\n",
      "  warnings.warn(message, category=ElasticsearchDeprecationWarning)\n"
     ]
    },
    {
     "name": "stdout",
     "output_type": "stream",
     "text": [
      "Chunk upload time: 3.615985155105591\n",
      "Chunk compute time: 0.3645451068878174\n",
      "Papers chunk memory size: 80737391\n",
      "Number of papers in partition: 2342\n"
     ]
    },
    {
     "name": "stderr",
     "output_type": "stream",
     "text": [
      "/home/nrs/.local/lib/python3.7/site-packages/elasticsearch/connection/base.py:177: ElasticsearchDeprecationWarning: [types removal] Specifying types in bulk requests is deprecated.\n",
      "  warnings.warn(message, category=ElasticsearchDeprecationWarning)\n"
     ]
    },
    {
     "name": "stdout",
     "output_type": "stream",
     "text": [
      "Chunk upload time: 3.7802610397338867\n",
      "Chunk compute time: 0.32657504081726074\n",
      "Papers chunk memory size: 68955911\n",
      "Number of papers in partition: 2343\n"
     ]
    },
    {
     "name": "stderr",
     "output_type": "stream",
     "text": [
      "/home/nrs/.local/lib/python3.7/site-packages/elasticsearch/connection/base.py:177: ElasticsearchDeprecationWarning: [types removal] Specifying types in bulk requests is deprecated.\n",
      "  warnings.warn(message, category=ElasticsearchDeprecationWarning)\n"
     ]
    },
    {
     "name": "stdout",
     "output_type": "stream",
     "text": [
      "Chunk upload time: 3.230070114135742\n",
      "Chunk compute time: 0.25176048278808594\n",
      "Papers chunk memory size: 58392869\n",
      "Number of papers in partition: 2342\n"
     ]
    },
    {
     "name": "stderr",
     "output_type": "stream",
     "text": [
      "/home/nrs/.local/lib/python3.7/site-packages/elasticsearch/connection/base.py:177: ElasticsearchDeprecationWarning: [types removal] Specifying types in bulk requests is deprecated.\n",
      "  warnings.warn(message, category=ElasticsearchDeprecationWarning)\n"
     ]
    },
    {
     "name": "stdout",
     "output_type": "stream",
     "text": [
      "Chunk upload time: 2.8110671043395996\n",
      "Chunk compute time: 0.252666711807251\n",
      "Papers chunk memory size: 60337889\n",
      "Number of papers in partition: 2343\n"
     ]
    },
    {
     "name": "stderr",
     "output_type": "stream",
     "text": [
      "/home/nrs/.local/lib/python3.7/site-packages/elasticsearch/connection/base.py:177: ElasticsearchDeprecationWarning: [types removal] Specifying types in bulk requests is deprecated.\n",
      "  warnings.warn(message, category=ElasticsearchDeprecationWarning)\n"
     ]
    },
    {
     "name": "stdout",
     "output_type": "stream",
     "text": [
      "Chunk upload time: 3.0220205783843994\n",
      "Chunk compute time: 0.046926259994506836\n",
      "Papers chunk memory size: 5090216\n",
      "Number of papers in partition: 2342\n"
     ]
    },
    {
     "name": "stderr",
     "output_type": "stream",
     "text": [
      "/home/nrs/.local/lib/python3.7/site-packages/elasticsearch/connection/base.py:177: ElasticsearchDeprecationWarning: [types removal] Specifying types in bulk requests is deprecated.\n",
      "  warnings.warn(message, category=ElasticsearchDeprecationWarning)\n"
     ]
    },
    {
     "name": "stdout",
     "output_type": "stream",
     "text": [
      "Chunk upload time: 0.39020776748657227\n",
      "Chunk compute time: 0.03749418258666992\n",
      "Papers chunk memory size: 5170270\n",
      "Number of papers in partition: 2343\n"
     ]
    },
    {
     "name": "stderr",
     "output_type": "stream",
     "text": [
      "/home/nrs/.local/lib/python3.7/site-packages/elasticsearch/connection/base.py:177: ElasticsearchDeprecationWarning: [types removal] Specifying types in bulk requests is deprecated.\n",
      "  warnings.warn(message, category=ElasticsearchDeprecationWarning)\n"
     ]
    },
    {
     "name": "stdout",
     "output_type": "stream",
     "text": [
      "Chunk upload time: 0.41483616828918457\n",
      "Chunk compute time: 0.03772091865539551\n",
      "Papers chunk memory size: 5019511\n",
      "Number of papers in partition: 2342\n"
     ]
    },
    {
     "name": "stderr",
     "output_type": "stream",
     "text": [
      "/home/nrs/.local/lib/python3.7/site-packages/elasticsearch/connection/base.py:177: ElasticsearchDeprecationWarning: [types removal] Specifying types in bulk requests is deprecated.\n",
      "  warnings.warn(message, category=ElasticsearchDeprecationWarning)\n"
     ]
    },
    {
     "name": "stdout",
     "output_type": "stream",
     "text": [
      "Chunk upload time: 0.4062998294830322\n",
      "Chunk compute time: 0.03815889358520508\n",
      "Papers chunk memory size: 5178962\n",
      "Number of papers in partition: 2343\n"
     ]
    },
    {
     "name": "stderr",
     "output_type": "stream",
     "text": [
      "/home/nrs/.local/lib/python3.7/site-packages/elasticsearch/connection/base.py:177: ElasticsearchDeprecationWarning: [types removal] Specifying types in bulk requests is deprecated.\n",
      "  warnings.warn(message, category=ElasticsearchDeprecationWarning)\n"
     ]
    },
    {
     "name": "stdout",
     "output_type": "stream",
     "text": [
      "Chunk upload time: 0.5409994125366211\n",
      "Chunk compute time: 0.12241339683532715\n",
      "Papers chunk memory size: 5043621\n",
      "Number of papers in partition: 2343\n"
     ]
    },
    {
     "name": "stderr",
     "output_type": "stream",
     "text": [
      "/home/nrs/.local/lib/python3.7/site-packages/elasticsearch/connection/base.py:177: ElasticsearchDeprecationWarning: [types removal] Specifying types in bulk requests is deprecated.\n",
      "  warnings.warn(message, category=ElasticsearchDeprecationWarning)\n"
     ]
    },
    {
     "name": "stdout",
     "output_type": "stream",
     "text": [
      "Chunk upload time: 0.45317554473876953\n",
      "Chunk compute time: 0.4881753921508789\n",
      "Papers chunk memory size: 90615823\n",
      "Number of papers in partition: 41390\n"
     ]
    },
    {
     "name": "stderr",
     "output_type": "stream",
     "text": [
      "/home/nrs/.local/lib/python3.7/site-packages/elasticsearch/connection/base.py:177: ElasticsearchDeprecationWarning: [types removal] Specifying types in bulk requests is deprecated.\n",
      "  warnings.warn(message, category=ElasticsearchDeprecationWarning)\n"
     ]
    },
    {
     "name": "stdout",
     "output_type": "stream",
     "text": [
      "Chunk upload time: 7.744546175003052\n",
      "Chunk compute time: 0.14365792274475098\n",
      "Papers chunk memory size: 30291174\n",
      "Number of papers in partition: 13775\n"
     ]
    },
    {
     "name": "stderr",
     "output_type": "stream",
     "text": [
      "/home/nrs/.local/lib/python3.7/site-packages/elasticsearch/connection/base.py:177: ElasticsearchDeprecationWarning: [types removal] Specifying types in bulk requests is deprecated.\n",
      "  warnings.warn(message, category=ElasticsearchDeprecationWarning)\n"
     ]
    },
    {
     "name": "stdout",
     "output_type": "stream",
     "text": [
      "Chunk upload time: 2.580942153930664\n",
      "Chunk compute time: 0.5620148181915283\n",
      "Papers chunk memory size: 117437832\n",
      "Number of papers in partition: 13775\n"
     ]
    },
    {
     "name": "stderr",
     "output_type": "stream",
     "text": [
      "/home/nrs/.local/lib/python3.7/site-packages/elasticsearch/connection/base.py:177: ElasticsearchDeprecationWarning: [types removal] Specifying types in bulk requests is deprecated.\n",
      "  warnings.warn(message, category=ElasticsearchDeprecationWarning)\n"
     ]
    },
    {
     "name": "stdout",
     "output_type": "stream",
     "text": [
      "Chunk upload time: 6.478722095489502\n",
      "Chunk compute time: 0.2731974124908447\n",
      "Papers chunk memory size: 52677674\n",
      "Number of papers in partition: 13776\n"
     ]
    },
    {
     "name": "stderr",
     "output_type": "stream",
     "text": [
      "/home/nrs/.local/lib/python3.7/site-packages/elasticsearch/connection/base.py:177: ElasticsearchDeprecationWarning: [types removal] Specifying types in bulk requests is deprecated.\n",
      "  warnings.warn(message, category=ElasticsearchDeprecationWarning)\n"
     ]
    },
    {
     "name": "stdout",
     "output_type": "stream",
     "text": [
      "Chunk upload time: 3.611220598220825\n",
      "Chunk compute time: 0.41723084449768066\n",
      "Papers chunk memory size: 80990799\n",
      "Number of papers in partition: 18340\n"
     ]
    },
    {
     "name": "stderr",
     "output_type": "stream",
     "text": [
      "/home/nrs/.local/lib/python3.7/site-packages/elasticsearch/connection/base.py:177: ElasticsearchDeprecationWarning: [types removal] Specifying types in bulk requests is deprecated.\n",
      "  warnings.warn(message, category=ElasticsearchDeprecationWarning)\n"
     ]
    },
    {
     "name": "stdout",
     "output_type": "stream",
     "text": [
      "Chunk upload time: 5.096600532531738\n",
      "Chunk compute time: 0.3644595146179199\n",
      "Papers chunk memory size: 78343065\n",
      "Number of papers in partition: 18340\n"
     ]
    },
    {
     "name": "stderr",
     "output_type": "stream",
     "text": [
      "/home/nrs/.local/lib/python3.7/site-packages/elasticsearch/connection/base.py:177: ElasticsearchDeprecationWarning: [types removal] Specifying types in bulk requests is deprecated.\n",
      "  warnings.warn(message, category=ElasticsearchDeprecationWarning)\n"
     ]
    },
    {
     "name": "stdout",
     "output_type": "stream",
     "text": [
      "Chunk upload time: 5.174802780151367\n",
      "Chunk compute time: 0.40221571922302246\n",
      "Papers chunk memory size: 75949773\n",
      "Number of papers in partition: 18318\n"
     ]
    },
    {
     "name": "stderr",
     "output_type": "stream",
     "text": [
      "/home/nrs/.local/lib/python3.7/site-packages/elasticsearch/connection/base.py:177: ElasticsearchDeprecationWarning: [types removal] Specifying types in bulk requests is deprecated.\n",
      "  warnings.warn(message, category=ElasticsearchDeprecationWarning)\n"
     ]
    },
    {
     "name": "stdout",
     "output_type": "stream",
     "text": [
      "Chunk upload time: 5.036653280258179\n",
      "Chunk compute time: 0.48787760734558105\n",
      "Papers chunk memory size: 78619678\n",
      "Number of papers in partition: 18318\n"
     ]
    },
    {
     "name": "stderr",
     "output_type": "stream",
     "text": [
      "/home/nrs/.local/lib/python3.7/site-packages/elasticsearch/connection/base.py:177: ElasticsearchDeprecationWarning: [types removal] Specifying types in bulk requests is deprecated.\n",
      "  warnings.warn(message, category=ElasticsearchDeprecationWarning)\n"
     ]
    },
    {
     "name": "stdout",
     "output_type": "stream",
     "text": [
      "Chunk upload time: 5.28656530380249\n",
      "Chunk compute time: 0.0883185863494873\n",
      "Papers chunk memory size: 16432958\n",
      "Number of papers in partition: 3738\n"
     ]
    },
    {
     "name": "stderr",
     "output_type": "stream",
     "text": [
      "/home/nrs/.local/lib/python3.7/site-packages/elasticsearch/connection/base.py:177: ElasticsearchDeprecationWarning: [types removal] Specifying types in bulk requests is deprecated.\n",
      "  warnings.warn(message, category=ElasticsearchDeprecationWarning)\n"
     ]
    },
    {
     "name": "stdout",
     "output_type": "stream",
     "text": [
      "Chunk upload time: 1.116797924041748\n",
      "Chunk compute time: 0.07760119438171387\n",
      "Papers chunk memory size: 17274967\n",
      "Number of papers in partition: 3739\n"
     ]
    },
    {
     "name": "stderr",
     "output_type": "stream",
     "text": [
      "/home/nrs/.local/lib/python3.7/site-packages/elasticsearch/connection/base.py:177: ElasticsearchDeprecationWarning: [types removal] Specifying types in bulk requests is deprecated.\n",
      "  warnings.warn(message, category=ElasticsearchDeprecationWarning)\n"
     ]
    },
    {
     "name": "stdout",
     "output_type": "stream",
     "text": [
      "Chunk upload time: 1.168879747390747\n",
      "Chunk compute time: 0.14589357376098633\n",
      "Papers chunk memory size: 30577077\n",
      "Number of papers in partition: 3739\n"
     ]
    },
    {
     "name": "stderr",
     "output_type": "stream",
     "text": [
      "/home/nrs/.local/lib/python3.7/site-packages/elasticsearch/connection/base.py:177: ElasticsearchDeprecationWarning: [types removal] Specifying types in bulk requests is deprecated.\n",
      "  warnings.warn(message, category=ElasticsearchDeprecationWarning)\n"
     ]
    },
    {
     "name": "stdout",
     "output_type": "stream",
     "text": [
      "Chunk upload time: 1.8644037246704102\n",
      "Chunk compute time: 0.675818681716919\n",
      "Papers chunk memory size: 130718568\n",
      "Number of papers in partition: 3738\n"
     ]
    },
    {
     "name": "stderr",
     "output_type": "stream",
     "text": [
      "/home/nrs/.local/lib/python3.7/site-packages/elasticsearch/connection/base.py:177: ElasticsearchDeprecationWarning: [types removal] Specifying types in bulk requests is deprecated.\n",
      "  warnings.warn(message, category=ElasticsearchDeprecationWarning)\n"
     ]
    },
    {
     "name": "stdout",
     "output_type": "stream",
     "text": [
      "Chunk upload time: 6.547251462936401\n",
      "Chunk compute time: 0.5861146450042725\n",
      "Papers chunk memory size: 126281823\n",
      "Number of papers in partition: 3739\n"
     ]
    },
    {
     "name": "stderr",
     "output_type": "stream",
     "text": [
      "/home/nrs/.local/lib/python3.7/site-packages/elasticsearch/connection/base.py:177: ElasticsearchDeprecationWarning: [types removal] Specifying types in bulk requests is deprecated.\n",
      "  warnings.warn(message, category=ElasticsearchDeprecationWarning)\n"
     ]
    },
    {
     "name": "stdout",
     "output_type": "stream",
     "text": [
      "Chunk upload time: 6.140889406204224\n",
      "Chunk compute time: 0.5828578472137451\n",
      "Papers chunk memory size: 125141792\n",
      "Number of papers in partition: 3739\n"
     ]
    },
    {
     "name": "stderr",
     "output_type": "stream",
     "text": [
      "/home/nrs/.local/lib/python3.7/site-packages/elasticsearch/connection/base.py:177: ElasticsearchDeprecationWarning: [types removal] Specifying types in bulk requests is deprecated.\n",
      "  warnings.warn(message, category=ElasticsearchDeprecationWarning)\n"
     ]
    },
    {
     "name": "stdout",
     "output_type": "stream",
     "text": [
      "Chunk upload time: 6.1146533489227295\n",
      "Chunk compute time: 0.6199309825897217\n",
      "Papers chunk memory size: 125021329\n",
      "Number of papers in partition: 3738\n"
     ]
    },
    {
     "name": "stderr",
     "output_type": "stream",
     "text": [
      "/home/nrs/.local/lib/python3.7/site-packages/elasticsearch/connection/base.py:177: ElasticsearchDeprecationWarning: [types removal] Specifying types in bulk requests is deprecated.\n",
      "  warnings.warn(message, category=ElasticsearchDeprecationWarning)\n"
     ]
    },
    {
     "name": "stdout",
     "output_type": "stream",
     "text": [
      "Chunk upload time: 6.3065526485443115\n",
      "Chunk compute time: 0.6066558361053467\n",
      "Papers chunk memory size: 130056253\n",
      "Number of papers in partition: 3739\n"
     ]
    },
    {
     "name": "stderr",
     "output_type": "stream",
     "text": [
      "/home/nrs/.local/lib/python3.7/site-packages/elasticsearch/connection/base.py:177: ElasticsearchDeprecationWarning: [types removal] Specifying types in bulk requests is deprecated.\n",
      "  warnings.warn(message, category=ElasticsearchDeprecationWarning)\n"
     ]
    },
    {
     "name": "stdout",
     "output_type": "stream",
     "text": [
      "Chunk upload time: 6.404177665710449\n",
      "Chunk compute time: 0.5703604221343994\n",
      "Papers chunk memory size: 124496200\n",
      "Number of papers in partition: 3739\n"
     ]
    },
    {
     "name": "stderr",
     "output_type": "stream",
     "text": [
      "/home/nrs/.local/lib/python3.7/site-packages/elasticsearch/connection/base.py:177: ElasticsearchDeprecationWarning: [types removal] Specifying types in bulk requests is deprecated.\n",
      "  warnings.warn(message, category=ElasticsearchDeprecationWarning)\n"
     ]
    },
    {
     "name": "stdout",
     "output_type": "stream",
     "text": [
      "Chunk upload time: 5.9972991943359375\n",
      "Chunk compute time: 0.5800602436065674\n",
      "Papers chunk memory size: 127419221\n",
      "Number of papers in partition: 3739\n"
     ]
    },
    {
     "name": "stderr",
     "output_type": "stream",
     "text": [
      "/home/nrs/.local/lib/python3.7/site-packages/elasticsearch/connection/base.py:177: ElasticsearchDeprecationWarning: [types removal] Specifying types in bulk requests is deprecated.\n",
      "  warnings.warn(message, category=ElasticsearchDeprecationWarning)\n"
     ]
    },
    {
     "name": "stdout",
     "output_type": "stream",
     "text": [
      "Chunk upload time: 6.350441217422485\n",
      "Chunk compute time: 0.4477968215942383\n",
      "Papers chunk memory size: 100636950\n",
      "Number of papers in partition: 2896\n"
     ]
    },
    {
     "name": "stderr",
     "output_type": "stream",
     "text": [
      "/home/nrs/.local/lib/python3.7/site-packages/elasticsearch/connection/base.py:177: ElasticsearchDeprecationWarning: [types removal] Specifying types in bulk requests is deprecated.\n",
      "  warnings.warn(message, category=ElasticsearchDeprecationWarning)\n"
     ]
    },
    {
     "name": "stdout",
     "output_type": "stream",
     "text": [
      "Chunk upload time: 4.731717348098755\n",
      "Chunk compute time: 0.432513952255249\n",
      "Papers chunk memory size: 99968056\n",
      "Number of papers in partition: 2897\n"
     ]
    },
    {
     "name": "stderr",
     "output_type": "stream",
     "text": [
      "/home/nrs/.local/lib/python3.7/site-packages/elasticsearch/connection/base.py:177: ElasticsearchDeprecationWarning: [types removal] Specifying types in bulk requests is deprecated.\n",
      "  warnings.warn(message, category=ElasticsearchDeprecationWarning)\n"
     ]
    },
    {
     "name": "stdout",
     "output_type": "stream",
     "text": [
      "Chunk upload time: 5.16713285446167\n",
      "Chunk compute time: 0.4294731616973877\n",
      "Papers chunk memory size: 97950175\n",
      "Number of papers in partition: 2897\n"
     ]
    },
    {
     "name": "stderr",
     "output_type": "stream",
     "text": [
      "/home/nrs/.local/lib/python3.7/site-packages/elasticsearch/connection/base.py:177: ElasticsearchDeprecationWarning: [types removal] Specifying types in bulk requests is deprecated.\n",
      "  warnings.warn(message, category=ElasticsearchDeprecationWarning)\n"
     ]
    },
    {
     "name": "stdout",
     "output_type": "stream",
     "text": [
      "Chunk upload time: 4.731663465499878\n",
      "Chunk compute time: 0.4108126163482666\n",
      "Papers chunk memory size: 94195280\n",
      "Number of papers in partition: 2897\n"
     ]
    },
    {
     "name": "stderr",
     "output_type": "stream",
     "text": [
      "/home/nrs/.local/lib/python3.7/site-packages/elasticsearch/connection/base.py:177: ElasticsearchDeprecationWarning: [types removal] Specifying types in bulk requests is deprecated.\n",
      "  warnings.warn(message, category=ElasticsearchDeprecationWarning)\n"
     ]
    },
    {
     "name": "stdout",
     "output_type": "stream",
     "text": [
      "Chunk upload time: 4.981873989105225\n",
      "Chunk compute time: 0.4839637279510498\n",
      "Papers chunk memory size: 105172960\n",
      "Number of papers in partition: 2897\n"
     ]
    },
    {
     "name": "stderr",
     "output_type": "stream",
     "text": [
      "/home/nrs/.local/lib/python3.7/site-packages/elasticsearch/connection/base.py:177: ElasticsearchDeprecationWarning: [types removal] Specifying types in bulk requests is deprecated.\n",
      "  warnings.warn(message, category=ElasticsearchDeprecationWarning)\n"
     ]
    },
    {
     "name": "stdout",
     "output_type": "stream",
     "text": [
      "Chunk upload time: 5.400135278701782\n",
      "Chunk compute time: 0.4290428161621094\n",
      "Papers chunk memory size: 95519406\n",
      "Number of papers in partition: 2897\n"
     ]
    },
    {
     "name": "stderr",
     "output_type": "stream",
     "text": [
      "/home/nrs/.local/lib/python3.7/site-packages/elasticsearch/connection/base.py:177: ElasticsearchDeprecationWarning: [types removal] Specifying types in bulk requests is deprecated.\n",
      "  warnings.warn(message, category=ElasticsearchDeprecationWarning)\n"
     ]
    },
    {
     "name": "stdout",
     "output_type": "stream",
     "text": [
      "Chunk upload time: 4.702991485595703\n",
      "Chunk compute time: 0.4621288776397705\n",
      "Papers chunk memory size: 101080546\n",
      "Number of papers in partition: 2897\n"
     ]
    },
    {
     "name": "stderr",
     "output_type": "stream",
     "text": [
      "/home/nrs/.local/lib/python3.7/site-packages/elasticsearch/connection/base.py:177: ElasticsearchDeprecationWarning: [types removal] Specifying types in bulk requests is deprecated.\n",
      "  warnings.warn(message, category=ElasticsearchDeprecationWarning)\n"
     ]
    },
    {
     "name": "stdout",
     "output_type": "stream",
     "text": [
      "Chunk upload time: 4.96285605430603\n",
      "Chunk compute time: 0.45519232749938965\n",
      "Papers chunk memory size: 102021314\n",
      "Number of papers in partition: 2897\n"
     ]
    },
    {
     "name": "stderr",
     "output_type": "stream",
     "text": [
      "/home/nrs/.local/lib/python3.7/site-packages/elasticsearch/connection/base.py:177: ElasticsearchDeprecationWarning: [types removal] Specifying types in bulk requests is deprecated.\n",
      "  warnings.warn(message, category=ElasticsearchDeprecationWarning)\n"
     ]
    },
    {
     "name": "stdout",
     "output_type": "stream",
     "text": [
      "Chunk upload time: 5.384646415710449\n",
      "Chunk compute time: 0.4536933898925781\n",
      "Papers chunk memory size: 100375780\n",
      "Number of papers in partition: 2897\n"
     ]
    },
    {
     "name": "stderr",
     "output_type": "stream",
     "text": [
      "/home/nrs/.local/lib/python3.7/site-packages/elasticsearch/connection/base.py:177: ElasticsearchDeprecationWarning: [types removal] Specifying types in bulk requests is deprecated.\n",
      "  warnings.warn(message, category=ElasticsearchDeprecationWarning)\n"
     ]
    },
    {
     "name": "stdout",
     "output_type": "stream",
     "text": [
      "Chunk upload time: 5.016437768936157\n",
      "Chunk compute time: 0.4709758758544922\n",
      "Papers chunk memory size: 98788701\n",
      "Number of papers in partition: 2897\n"
     ]
    },
    {
     "name": "stderr",
     "output_type": "stream",
     "text": [
      "/home/nrs/.local/lib/python3.7/site-packages/elasticsearch/connection/base.py:177: ElasticsearchDeprecationWarning: [types removal] Specifying types in bulk requests is deprecated.\n",
      "  warnings.warn(message, category=ElasticsearchDeprecationWarning)\n"
     ]
    },
    {
     "name": "stdout",
     "output_type": "stream",
     "text": [
      "Chunk upload time: 4.731437921524048\n",
      "Chunk compute time: 0.43912220001220703\n",
      "Papers chunk memory size: 102715088\n",
      "Number of papers in partition: 2897\n"
     ]
    },
    {
     "name": "stderr",
     "output_type": "stream",
     "text": [
      "/home/nrs/.local/lib/python3.7/site-packages/elasticsearch/connection/base.py:177: ElasticsearchDeprecationWarning: [types removal] Specifying types in bulk requests is deprecated.\n",
      "  warnings.warn(message, category=ElasticsearchDeprecationWarning)\n"
     ]
    },
    {
     "name": "stdout",
     "output_type": "stream",
     "text": [
      "Chunk upload time: 5.019156217575073\n",
      "Chunk compute time: 0.4007439613342285\n",
      "Papers chunk memory size: 97789440\n",
      "Number of papers in partition: 2897\n"
     ]
    },
    {
     "name": "stderr",
     "output_type": "stream",
     "text": [
      "/home/nrs/.local/lib/python3.7/site-packages/elasticsearch/connection/base.py:177: ElasticsearchDeprecationWarning: [types removal] Specifying types in bulk requests is deprecated.\n",
      "  warnings.warn(message, category=ElasticsearchDeprecationWarning)\n"
     ]
    },
    {
     "name": "stdout",
     "output_type": "stream",
     "text": [
      "Chunk upload time: 4.6330249309539795\n",
      "Chunk compute time: 0.4627063274383545\n",
      "Papers chunk memory size: 103029646\n",
      "Number of papers in partition: 2897\n"
     ]
    },
    {
     "name": "stderr",
     "output_type": "stream",
     "text": [
      "/home/nrs/.local/lib/python3.7/site-packages/elasticsearch/connection/base.py:177: ElasticsearchDeprecationWarning: [types removal] Specifying types in bulk requests is deprecated.\n",
      "  warnings.warn(message, category=ElasticsearchDeprecationWarning)\n"
     ]
    },
    {
     "name": "stdout",
     "output_type": "stream",
     "text": [
      "Chunk upload time: 5.1256630420684814\n",
      "Chunk compute time: 0.45447397232055664\n",
      "Papers chunk memory size: 99603319\n",
      "Number of papers in partition: 2918\n"
     ]
    },
    {
     "name": "stderr",
     "output_type": "stream",
     "text": [
      "/home/nrs/.local/lib/python3.7/site-packages/elasticsearch/connection/base.py:177: ElasticsearchDeprecationWarning: [types removal] Specifying types in bulk requests is deprecated.\n",
      "  warnings.warn(message, category=ElasticsearchDeprecationWarning)\n"
     ]
    },
    {
     "name": "stdout",
     "output_type": "stream",
     "text": [
      "Chunk upload time: 4.957114219665527\n",
      "Chunk compute time: 0.456683874130249\n",
      "Papers chunk memory size: 99132431\n",
      "Number of papers in partition: 2918\n"
     ]
    },
    {
     "name": "stderr",
     "output_type": "stream",
     "text": [
      "/home/nrs/.local/lib/python3.7/site-packages/elasticsearch/connection/base.py:177: ElasticsearchDeprecationWarning: [types removal] Specifying types in bulk requests is deprecated.\n",
      "  warnings.warn(message, category=ElasticsearchDeprecationWarning)\n"
     ]
    },
    {
     "name": "stdout",
     "output_type": "stream",
     "text": [
      "Chunk upload time: 4.954034805297852\n",
      "Chunk compute time: 0.41417741775512695\n",
      "Papers chunk memory size: 95488988\n",
      "Number of papers in partition: 2919\n"
     ]
    },
    {
     "name": "stderr",
     "output_type": "stream",
     "text": [
      "/home/nrs/.local/lib/python3.7/site-packages/elasticsearch/connection/base.py:177: ElasticsearchDeprecationWarning: [types removal] Specifying types in bulk requests is deprecated.\n",
      "  warnings.warn(message, category=ElasticsearchDeprecationWarning)\n"
     ]
    },
    {
     "name": "stdout",
     "output_type": "stream",
     "text": [
      "Chunk upload time: 4.817539215087891\n",
      "Chunk compute time: 0.4592299461364746\n",
      "Papers chunk memory size: 98494591\n",
      "Number of papers in partition: 2918\n"
     ]
    },
    {
     "name": "stderr",
     "output_type": "stream",
     "text": [
      "/home/nrs/.local/lib/python3.7/site-packages/elasticsearch/connection/base.py:177: ElasticsearchDeprecationWarning: [types removal] Specifying types in bulk requests is deprecated.\n",
      "  warnings.warn(message, category=ElasticsearchDeprecationWarning)\n"
     ]
    },
    {
     "name": "stdout",
     "output_type": "stream",
     "text": [
      "Chunk upload time: 4.893334865570068\n",
      "Chunk compute time: 0.4306657314300537\n",
      "Papers chunk memory size: 98048341\n",
      "Number of papers in partition: 2918\n"
     ]
    },
    {
     "name": "stderr",
     "output_type": "stream",
     "text": [
      "/home/nrs/.local/lib/python3.7/site-packages/elasticsearch/connection/base.py:177: ElasticsearchDeprecationWarning: [types removal] Specifying types in bulk requests is deprecated.\n",
      "  warnings.warn(message, category=ElasticsearchDeprecationWarning)\n"
     ]
    },
    {
     "name": "stdout",
     "output_type": "stream",
     "text": [
      "Chunk upload time: 4.998810052871704\n",
      "Chunk compute time: 0.547621488571167\n",
      "Papers chunk memory size: 98788361\n",
      "Number of papers in partition: 2919\n"
     ]
    },
    {
     "name": "stderr",
     "output_type": "stream",
     "text": [
      "/home/nrs/.local/lib/python3.7/site-packages/elasticsearch/connection/base.py:177: ElasticsearchDeprecationWarning: [types removal] Specifying types in bulk requests is deprecated.\n",
      "  warnings.warn(message, category=ElasticsearchDeprecationWarning)\n"
     ]
    },
    {
     "name": "stdout",
     "output_type": "stream",
     "text": [
      "Chunk upload time: 10.401020765304565\n",
      "Chunk compute time: 0.4534933567047119\n",
      "Papers chunk memory size: 98585599\n",
      "Number of papers in partition: 2918\n"
     ]
    },
    {
     "name": "stderr",
     "output_type": "stream",
     "text": [
      "/home/nrs/.local/lib/python3.7/site-packages/elasticsearch/connection/base.py:177: ElasticsearchDeprecationWarning: [types removal] Specifying types in bulk requests is deprecated.\n",
      "  warnings.warn(message, category=ElasticsearchDeprecationWarning)\n"
     ]
    },
    {
     "name": "stdout",
     "output_type": "stream",
     "text": [
      "Chunk upload time: 4.763429880142212\n",
      "Chunk compute time: 0.4680049419403076\n",
      "Papers chunk memory size: 100689072\n",
      "Number of papers in partition: 2919\n"
     ]
    },
    {
     "name": "stderr",
     "output_type": "stream",
     "text": [
      "/home/nrs/.local/lib/python3.7/site-packages/elasticsearch/connection/base.py:177: ElasticsearchDeprecationWarning: [types removal] Specifying types in bulk requests is deprecated.\n",
      "  warnings.warn(message, category=ElasticsearchDeprecationWarning)\n"
     ]
    },
    {
     "name": "stdout",
     "output_type": "stream",
     "text": [
      "Chunk upload time: 4.920915126800537\n",
      "Chunk compute time: 0.44078683853149414\n",
      "Papers chunk memory size: 100975060\n",
      "Number of papers in partition: 2918\n"
     ]
    },
    {
     "name": "stderr",
     "output_type": "stream",
     "text": [
      "/home/nrs/.local/lib/python3.7/site-packages/elasticsearch/connection/base.py:177: ElasticsearchDeprecationWarning: [types removal] Specifying types in bulk requests is deprecated.\n",
      "  warnings.warn(message, category=ElasticsearchDeprecationWarning)\n"
     ]
    },
    {
     "name": "stdout",
     "output_type": "stream",
     "text": [
      "Chunk upload time: 4.663854598999023\n",
      "Chunk compute time: 0.4526660442352295\n",
      "Papers chunk memory size: 99037724\n",
      "Number of papers in partition: 2918\n"
     ]
    },
    {
     "name": "stderr",
     "output_type": "stream",
     "text": [
      "/home/nrs/.local/lib/python3.7/site-packages/elasticsearch/connection/base.py:177: ElasticsearchDeprecationWarning: [types removal] Specifying types in bulk requests is deprecated.\n",
      "  warnings.warn(message, category=ElasticsearchDeprecationWarning)\n"
     ]
    },
    {
     "name": "stdout",
     "output_type": "stream",
     "text": [
      "Chunk upload time: 4.919492721557617\n",
      "Chunk compute time: 0.45700907707214355\n",
      "Papers chunk memory size: 100117604\n",
      "Number of papers in partition: 2919\n"
     ]
    },
    {
     "name": "stderr",
     "output_type": "stream",
     "text": [
      "/home/nrs/.local/lib/python3.7/site-packages/elasticsearch/connection/base.py:177: ElasticsearchDeprecationWarning: [types removal] Specifying types in bulk requests is deprecated.\n",
      "  warnings.warn(message, category=ElasticsearchDeprecationWarning)\n"
     ]
    },
    {
     "name": "stdout",
     "output_type": "stream",
     "text": [
      "Chunk upload time: 4.989971160888672\n",
      "Chunk compute time: 0.43088531494140625\n",
      "Papers chunk memory size: 97010672\n",
      "Number of papers in partition: 2918\n"
     ]
    },
    {
     "name": "stderr",
     "output_type": "stream",
     "text": [
      "/home/nrs/.local/lib/python3.7/site-packages/elasticsearch/connection/base.py:177: ElasticsearchDeprecationWarning: [types removal] Specifying types in bulk requests is deprecated.\n",
      "  warnings.warn(message, category=ElasticsearchDeprecationWarning)\n"
     ]
    },
    {
     "name": "stdout",
     "output_type": "stream",
     "text": [
      "Chunk upload time: 4.782870054244995\n",
      "Chunk compute time: 0.4515500068664551\n",
      "Papers chunk memory size: 98259656\n",
      "Number of papers in partition: 2919\n"
     ]
    },
    {
     "name": "stderr",
     "output_type": "stream",
     "text": [
      "/home/nrs/.local/lib/python3.7/site-packages/elasticsearch/connection/base.py:177: ElasticsearchDeprecationWarning: [types removal] Specifying types in bulk requests is deprecated.\n",
      "  warnings.warn(message, category=ElasticsearchDeprecationWarning)\n"
     ]
    },
    {
     "name": "stdout",
     "output_type": "stream",
     "text": [
      "Chunk upload time: 4.784783840179443\n",
      "Chunk compute time: 0.37438082695007324\n",
      "Papers chunk memory size: 83792505\n",
      "Number of papers in partition: 2494\n"
     ]
    },
    {
     "name": "stderr",
     "output_type": "stream",
     "text": [
      "/home/nrs/.local/lib/python3.7/site-packages/elasticsearch/connection/base.py:177: ElasticsearchDeprecationWarning: [types removal] Specifying types in bulk requests is deprecated.\n",
      "  warnings.warn(message, category=ElasticsearchDeprecationWarning)\n"
     ]
    },
    {
     "name": "stdout",
     "output_type": "stream",
     "text": [
      "Chunk upload time: 4.254506587982178\n",
      "Chunk compute time: 0.3855404853820801\n",
      "Papers chunk memory size: 85723363\n",
      "Number of papers in partition: 2495\n"
     ]
    },
    {
     "name": "stderr",
     "output_type": "stream",
     "text": [
      "/home/nrs/.local/lib/python3.7/site-packages/elasticsearch/connection/base.py:177: ElasticsearchDeprecationWarning: [types removal] Specifying types in bulk requests is deprecated.\n",
      "  warnings.warn(message, category=ElasticsearchDeprecationWarning)\n"
     ]
    },
    {
     "name": "stdout",
     "output_type": "stream",
     "text": [
      "Chunk upload time: 4.223361253738403\n",
      "Chunk compute time: 0.374570369720459\n",
      "Papers chunk memory size: 82905575\n",
      "Number of papers in partition: 2495\n"
     ]
    },
    {
     "name": "stderr",
     "output_type": "stream",
     "text": [
      "/home/nrs/.local/lib/python3.7/site-packages/elasticsearch/connection/base.py:177: ElasticsearchDeprecationWarning: [types removal] Specifying types in bulk requests is deprecated.\n",
      "  warnings.warn(message, category=ElasticsearchDeprecationWarning)\n"
     ]
    },
    {
     "name": "stdout",
     "output_type": "stream",
     "text": [
      "Chunk upload time: 3.975001811981201\n",
      "Chunk compute time: 0.356107234954834\n",
      "Papers chunk memory size: 83798591\n",
      "Number of papers in partition: 2495\n",
      "Chunk upload time: 4.280253648757935\n",
      "CPU times: user 41 s, sys: 11.1 s, total: 52.1 s\n",
      "Wall time: 6min 1s\n"
     ]
    },
    {
     "name": "stderr",
     "output_type": "stream",
     "text": [
      "/home/nrs/.local/lib/python3.7/site-packages/elasticsearch/connection/base.py:177: ElasticsearchDeprecationWarning: [types removal] Specifying types in bulk requests is deprecated.\n",
      "  warnings.warn(message, category=ElasticsearchDeprecationWarning)\n"
     ]
    }
   ],
   "source": [
    "%%time\n",
    "\n",
    "upload_parquet_dir_to_es_idx(\"research_paper_bodies/*\", COVID19_PAPERS_INDEX, [\"localhost\"])"
   ]
  },
  {
   "cell_type": "markdown",
   "metadata": {},
   "source": [
    "**Chunk size: 100** <br>\n",
    "Chunk compute time: 53.44560766220093 <br>\n",
    "Papers chunk memory size: 63760 <br>\n",
    "Uploaded 797 papers <br>\n",
    "Chunk upload time: 1.0919387340545654 <br>\n",
    "Errors: False <br>\n",
    "CPU times: user 2.52 s, sys: 456 ms, total: 2.97 s<br>\n",
    "Wall time: 54.6 s <br>\n",
    "\n",
    "**Chunk size: 1000** <br>\n",
    "Chunk compute time: 50.61113500595093 <br>\n",
    "Papers chunk memory size: 170575504 <br>\n",
    "This is when it hits the 413 TransportError b/c in the elasticsearch.yml file of the container, the config var `http.max_content_length = 100MB`, and the papers df chunk memory size = 170.58MB. "
   ]
  },
  {
   "cell_type": "code",
   "execution_count": null,
   "metadata": {},
   "outputs": [],
   "source": [
    "%%time\n",
    "\n",
    "# 6.5GB total - 46.5 s\n",
    "metadata_dd.memory_usage(deep=True).sum().compute(scheduler=\"processes\")"
   ]
  },
  {
   "cell_type": "code",
   "execution_count": null,
   "metadata": {},
   "outputs": [],
   "source": [
    "metadata_dd.partitions"
   ]
  },
  {
   "cell_type": "code",
   "execution_count": null,
   "metadata": {},
   "outputs": [],
   "source": [
    "%%time\n",
    "\n",
    "metadata_chunk = metadata_dd.loc[0].compute()\n",
    "metadata_chunk_2 = metadata_dd.loc[0:1000].compute()"
   ]
  },
  {
   "cell_type": "code",
   "execution_count": null,
   "metadata": {},
   "outputs": [],
   "source": [
    "metadata_chunk_2.shape"
   ]
  },
  {
   "cell_type": "code",
   "execution_count": null,
   "metadata": {},
   "outputs": [],
   "source": [
    "metadata_df[metadata_df[\"cord_uid\"] == \"soksrmkx\"]\n",
    "metadata_dd.index.value_counts().compute()"
   ]
  },
  {
   "cell_type": "code",
   "execution_count": null,
   "metadata": {},
   "outputs": [],
   "source": []
  }
 ],
 "metadata": {
  "kernelspec": {
   "display_name": "Python 3.7.3 64-bit",
   "language": "python",
   "name": "python37364bit4726871660824b01b6df5737252367af"
  },
  "language_info": {
   "codemirror_mode": {
    "name": "ipython",
    "version": 3
   },
   "file_extension": ".py",
   "mimetype": "text/x-python",
   "name": "python",
   "nbconvert_exporter": "python",
   "pygments_lexer": "ipython3",
   "version": "3.7.3"
  }
 },
 "nbformat": 4,
 "nbformat_minor": 4
}
